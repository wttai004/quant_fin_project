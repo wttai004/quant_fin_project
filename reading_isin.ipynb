{
 "cells": [
  {
   "cell_type": "code",
   "execution_count": 1,
   "id": "7cfa911c",
   "metadata": {},
   "outputs": [
    {
     "ename": "KeyboardInterrupt",
     "evalue": "",
     "output_type": "error",
     "traceback": [
      "\u001b[31m---------------------------------------------------------------------------\u001b[39m",
      "\u001b[31mKeyboardInterrupt\u001b[39m                         Traceback (most recent call last)",
      "\u001b[36mCell\u001b[39m\u001b[36m \u001b[39m\u001b[32mIn[1]\u001b[39m\u001b[32m, line 40\u001b[39m\n\u001b[32m     37\u001b[39m             cells = row                        \u001b[38;5;66;03m# fallback: scan all cells per row\u001b[39;00m\n\u001b[32m     39\u001b[39m         \u001b[38;5;28;01mfor\u001b[39;00m cell \u001b[38;5;129;01min\u001b[39;00m cells:\n\u001b[32m---> \u001b[39m\u001b[32m40\u001b[39m             \u001b[38;5;28;01mif\u001b[39;00m \u001b[43mis_valid_isin\u001b[49m\u001b[43m(\u001b[49m\u001b[43mcell\u001b[49m\u001b[43m)\u001b[49m:\n\u001b[32m     41\u001b[39m                 unique_isins.add(cell.strip().upper())\n\u001b[32m     43\u001b[39m \u001b[38;5;28mprint\u001b[39m(\u001b[33mf\u001b[39m\u001b[33m\"\u001b[39m\u001b[33mFound \u001b[39m\u001b[38;5;132;01m{\u001b[39;00m\u001b[38;5;28mlen\u001b[39m(unique_isins)\u001b[38;5;132;01m}\u001b[39;00m\u001b[33m unique ISINs\u001b[39m\u001b[33m\"\u001b[39m)\n",
      "\u001b[36mCell\u001b[39m\u001b[36m \u001b[39m\u001b[32mIn[1]\u001b[39m\u001b[32m, line 15\u001b[39m, in \u001b[36mis_valid_isin\u001b[39m\u001b[34m(code)\u001b[39m\n\u001b[32m     13\u001b[39m total = \u001b[32m0\u001b[39m\n\u001b[32m     14\u001b[39m \u001b[38;5;28;01mfor\u001b[39;00m i, ch \u001b[38;5;129;01min\u001b[39;00m \u001b[38;5;28menumerate\u001b[39m(expanded[::-\u001b[32m1\u001b[39m]):  \u001b[38;5;66;03m# right-to-left\u001b[39;00m\n\u001b[32m---> \u001b[39m\u001b[32m15\u001b[39m     d = \u001b[38;5;28;43mint\u001b[39;49m\u001b[43m(\u001b[49m\u001b[43mch\u001b[49m\u001b[43m)\u001b[49m\n\u001b[32m     16\u001b[39m     \u001b[38;5;28;01mif\u001b[39;00m i % \u001b[32m2\u001b[39m == \u001b[32m1\u001b[39m:  \u001b[38;5;66;03m# double every second digit\u001b[39;00m\n\u001b[32m     17\u001b[39m         d *= \u001b[32m2\u001b[39m\n",
      "\u001b[31mKeyboardInterrupt\u001b[39m: "
     ]
    }
   ],
   "source": [
    "import csv, os, re\n",
    "\n",
    "path = os.path.expanduser(\"~/Downloads/uj2eoqfttsdadhbb.csv\")\n",
    "\n",
    "# ISIN validation (ISO 6166 + Luhn)\n",
    "_ISIN_RE = re.compile(r\"^[A-Z]{2}[A-Z0-9]{9}[0-9]$\")\n",
    "def is_valid_isin(code: str) -> bool:\n",
    "    s = (code or \"\").strip().upper().replace(\" \", \"\")\n",
    "    if not _ISIN_RE.match(s):\n",
    "        return False\n",
    "    # Expand letters A=10 ... Z=35 then apply Luhn over the full string (incl. check digit)\n",
    "    expanded = \"\".join(str(ord(c) - 55) if c.isalpha() else c for c in s)\n",
    "    total = 0\n",
    "    for i, ch in enumerate(expanded[::-1]):  # right-to-left\n",
    "        d = int(ch)\n",
    "        if i % 2 == 1:  # double every second digit\n",
    "            d *= 2\n",
    "            if d > 9:\n",
    "                d -= 9\n",
    "        total += d\n",
    "    return total % 10 == 0\n",
    "\n",
    "unique_isins = set()\n",
    "\n",
    "with open(path, newline=\"\", encoding=\"utf-8\", errors=\"ignore\") as f:\n",
    "    reader = csv.reader(f)\n",
    "    headers = next(reader)\n",
    "    # Try to find a column literally named \"isin\" (any case/spacing)\n",
    "    norm = [re.sub(r\"\\W+\", \"\", (h or \"\")).lower() for h in headers]\n",
    "    isin_idx = norm.index(\"isin\") if \"isin\" in norm else None\n",
    "\n",
    "    for row in reader:\n",
    "        cells = []\n",
    "        if isin_idx is not None and isin_idx < len(row):\n",
    "            cells = [row[isin_idx]]            # fast path: dedicated ISIN column\n",
    "        else:\n",
    "            cells = row                        # fallback: scan all cells per row\n",
    "\n",
    "        for cell in cells:\n",
    "            if is_valid_isin(cell):\n",
    "                unique_isins.add(cell.strip().upper())\n",
    "\n",
    "print(f\"Found {len(unique_isins)} unique ISINs\")\n",
    "# If you want to save them:\n",
    "out_path = os.path.expanduser(\"~/Downloads/unique_isins.txt\")\n",
    "with open(out_path, \"w\", encoding=\"utf-8\") as out:\n",
    "    out.write(\"\\n\".join(sorted(unique_isins)))\n",
    "print(f\"Wrote to: {out_path}\")"
   ]
  },
  {
   "cell_type": "code",
   "execution_count": null,
   "id": "c4f4309e",
   "metadata": {},
   "outputs": [],
   "source": []
  }
 ],
 "metadata": {
  "kernelspec": {
   "display_name": "yfinance",
   "language": "python",
   "name": "python3"
  },
  "language_info": {
   "codemirror_mode": {
    "name": "ipython",
    "version": 3
   },
   "file_extension": ".py",
   "mimetype": "text/x-python",
   "name": "python",
   "nbconvert_exporter": "python",
   "pygments_lexer": "ipython3",
   "version": "3.12.11"
  }
 },
 "nbformat": 4,
 "nbformat_minor": 5
}
